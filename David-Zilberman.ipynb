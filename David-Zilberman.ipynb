{
 "cells": [
  {
   "cell_type": "code",
   "execution_count": 2,
   "metadata": {},
   "outputs": [
    {
     "name": "stdout",
     "output_type": "stream",
     "text": [
      "fatal: not a git repository (or any parent up to mount point /home)\r\n",
      "Stopping at filesystem boundary (GIT_DISCOVERY_ACROSS_FILESYSTEM not set).\r\n"
     ]
    }
   ],
   "source": [
    "!git checkout -b dev master"
   ]
  },
  {
   "cell_type": "code",
   "execution_count": 13,
   "metadata": {},
   "outputs": [
    {
     "name": "stdout",
     "output_type": "stream",
     "text": [
      "fatal: repository 'Project_4' does not exist\r\n"
     ]
    }
   ],
   "source": [
    "!git clone Project_4 [home]\n"
   ]
  },
  {
   "cell_type": "code",
   "execution_count": 39,
   "metadata": {},
   "outputs": [
    {
     "name": "stdout",
     "output_type": "stream",
     "text": [
      "fatal: destination path 'Project_4' already exists and is not an empty directory.\n",
      "/bin/sh: 1: cd: can't cd to Project_4.git\n"
     ]
    }
   ],
   "source": [
    "!git clone https://github.com/David-Zilberman/Project_4.git\n",
    "!cd Project_4.git\n"
   ]
  },
  {
   "cell_type": "code",
   "execution_count": 33,
   "metadata": {},
   "outputs": [
    {
     "name": "stdout",
     "output_type": "stream",
     "text": [
      "/home/jovyan\n"
     ]
    }
   ],
   "source": [
    "cd\n"
   ]
  },
  {
   "cell_type": "code",
   "execution_count": 23,
   "metadata": {},
   "outputs": [
    {
     "name": "stdout",
     "output_type": "stream",
     "text": [
      "fatal: pathspec 'David-Zilberman.ipynb' did not match any files\r\n"
     ]
    }
   ],
   "source": [
    "!git add David-Zilberman.ipynb"
   ]
  },
  {
   "cell_type": "code",
   "execution_count": 29,
   "metadata": {},
   "outputs": [
    {
     "name": "stdout",
     "output_type": "stream",
     "text": [
      "/bin/sh: 1: cd: can't cd to Project_4\n",
      "fatal: pathspec 'David-Zilberman.ipynb' did not match any files\n"
     ]
    }
   ],
   "source": [
    "!cd Project_4\n",
    "!git add David-Zilberman.ipynb"
   ]
  },
  {
   "cell_type": "code",
   "execution_count": 34,
   "metadata": {},
   "outputs": [
    {
     "name": "stdout",
     "output_type": "stream",
     "text": [
      "[Errno 2] No such file or directory: 'wedding'\n",
      "/home/jovyan\n"
     ]
    }
   ],
   "source": [
    "cd "
   ]
  },
  {
   "cell_type": "code",
   "execution_count": 40,
   "metadata": {},
   "outputs": [],
   "source": [
    "man git-log"
   ]
  },
  {
   "cell_type": "code",
   "execution_count": 43,
   "metadata": {},
   "outputs": [
    {
     "name": "stdout",
     "output_type": "stream",
     "text": [
      "No manual entry for git-log\r\n",
      "See 'man 7 undocumented' for help when manual pages are not available.\r\n"
     ]
    }
   ],
   "source": [
    "!git help log\n"
   ]
  },
  {
   "cell_type": "code",
   "execution_count": null,
   "metadata": {},
   "outputs": [],
   "source": [
    "!git clone https://github.com/David-Zilberman/Project_4.git\n",
    "\n",
    "!git init"
   ]
  },
  {
   "cell_type": "code",
   "execution_count": null,
   "metadata": {},
   "outputs": [
    {
     "name": "stdout",
     "output_type": "stream",
     "text": [
      "hint: Waiting for your editor to close the file... \u001b[?2004h\u001b7\u001b[?47h\u001b[?1h\u001b=\u001b[?2004h\u001b[1;24r\u001b[?12h\u001b[?12l\u001b[29m\u001b[m\u001b[H\u001b[2J\u001b[?25l\u001b[24;1H\"~/.git/COMMIT_EDITMSG\" 79L, 1504C\u001b[2;1H▽\u001b[6n\u001b[2;1H  \u001b[1;1H\u001b[>c\u001b]10;?\u0007\u001b]11;?\u0007\u001b[2;1H\u001b[34m# Please enter the commit message for your changes. Lines starting\n",
      "# with '#' will be ignored, and an empty message aborts the commit.\n",
      "#\n",
      "# On branch \u001b[m\u001b[35mmaster\u001b[m\n",
      "\u001b[34m#\n",
      "# Initial commit\n",
      "#\n",
      "# \u001b[m\u001b[35mChanges to be committed:\u001b[m\n",
      "\u001b[34m#       \u001b[m\u001b[32mnew file\u001b[m\u001b[34m: \u001b[m\u001b[31m  David-Zilberman.ipynb\u001b[m\n",
      "\u001b[34m#\n",
      "# \u001b[m\u001b[35mUntracked files:\u001b[m\n",
      "\u001b[34m#       \u001b[m\u001b[31m.bash_history\u001b[m\n",
      "\u001b[34m#       \u001b[m\u001b[31m.cache/\u001b[m\n",
      "\u001b[34m#       \u001b[m\u001b[31m.config/\u001b[m\n",
      "\u001b[34m#       \u001b[m\u001b[31m.cufflinks/\u001b[m\n",
      "\u001b[34m#       \u001b[m\u001b[31m.gitconfig\u001b[m\n",
      "\u001b[34m#       \u001b[m\u001b[31m.gnupg/\u001b[m\n",
      "\u001b[34m#       \u001b[m\u001b[31m.ipynb_checkpoints/\u001b[m\n",
      "\u001b[34m#       \u001b[m\u001b[31m.jupyter/\u001b[m\n",
      "\u001b[34m#       \u001b[m\u001b[31m.local/\u001b[m\n",
      "\u001b[34m#       \u001b[m\u001b[31m.pki/\u001b[m\n",
      "\u001b[34m#       \u001b[m\u001b[31m.rstudio/\u001b[m\u001b[24;63H1,0-1\u001b[9CTop\u001b[1;1H\u001b[?25h"
     ]
    }
   ],
   "source": [
    "!git config --global user.email \"liamjameson@berkeley.edu\"\n",
    "!git config --global user.name \"Liam Jameson\"\n",
    "    \n",
    "!git add David-Zilberman.ipynb\n",
    "!git commit"
   ]
  },
  {
   "cell_type": "code",
   "execution_count": null,
   "metadata": {},
   "outputs": [],
   "source": []
  }
 ],
 "metadata": {
  "kernelspec": {
   "display_name": "Python 3",
   "language": "python",
   "name": "python3"
  },
  "language_info": {
   "codemirror_mode": {
    "name": "ipython",
    "version": 3
   },
   "file_extension": ".py",
   "mimetype": "text/x-python",
   "name": "python",
   "nbconvert_exporter": "python",
   "pygments_lexer": "ipython3",
   "version": "3.6.9"
  }
 },
 "nbformat": 4,
 "nbformat_minor": 4
}
