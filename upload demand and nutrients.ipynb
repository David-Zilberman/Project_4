{
 "cells": [
  {
   "cell_type": "code",
   "execution_count": 18,
   "metadata": {},
   "outputs": [
    {
     "name": "stdout",
     "output_type": "stream",
     "text": [
      "Requirement already up-to-date: CFEDemands in /srv/app/venv/lib/python3.6/site-packages\n",
      "\u001b[33mYou are using pip version 9.0.3, however version 20.0.2 is available.\n",
      "You should consider upgrading via the 'pip install --upgrade pip' command.\u001b[0m\n",
      "Requirement already up-to-date: xarray in /srv/app/venv/lib/python3.6/site-packages\n",
      "Requirement already up-to-date: pandas>=0.25 in /srv/app/venv/lib/python3.6/site-packages (from xarray)\n",
      "Requirement already up-to-date: setuptools>=41.2 in /srv/app/venv/lib/python3.6/site-packages (from xarray)\n",
      "Requirement already up-to-date: numpy>=1.15 in /srv/app/venv/lib/python3.6/site-packages (from xarray)\n",
      "Requirement already up-to-date: pytz>=2017.2 in /srv/app/venv/lib/python3.6/site-packages (from pandas>=0.25->xarray)\n",
      "Requirement already up-to-date: python-dateutil>=2.6.1 in /srv/app/venv/lib/python3.6/site-packages (from pandas>=0.25->xarray)\n",
      "Requirement already up-to-date: six>=1.5 in /srv/app/venv/lib/python3.6/site-packages (from python-dateutil>=2.6.1->pandas>=0.25->xarray)\n",
      "\u001b[33mYou are using pip version 9.0.3, however version 20.0.2 is available.\n",
      "You should consider upgrading via the 'pip install --upgrade pip' command.\u001b[0m\n",
      "Requirement already satisfied: h5netcdf in /srv/app/venv/lib/python3.6/site-packages\n",
      "Requirement already satisfied: h5py in /srv/app/venv/lib/python3.6/site-packages (from h5netcdf)\n",
      "Requirement already satisfied: six in /srv/app/venv/lib/python3.6/site-packages (from h5py->h5netcdf)\n",
      "Requirement already satisfied: numpy>=1.7 in /srv/app/venv/lib/python3.6/site-packages (from h5py->h5netcdf)\n",
      "\u001b[33mYou are using pip version 9.0.3, however version 20.0.2 is available.\n",
      "You should consider upgrading via the 'pip install --upgrade pip' command.\u001b[0m\n"
     ]
    }
   ],
   "source": [
    "!pip install CFEDemands --upgrade --pre\n",
    "!pip install xarray --upgrade\n",
    "!pip install h5netcdf\n",
    "import cfe\n",
    "import numpy as np\n",
    "import matplotlib.pyplot as plt\n",
    "%matplotlib inline\n",
    "import pandas as pd"
   ]
  },
  {
   "cell_type": "code",
   "execution_count": 2,
   "metadata": {},
   "outputs": [
    {
     "name": "stderr",
     "output_type": "stream",
     "text": [
      "/srv/app/venv/lib/python3.6/site-packages/h5py/__init__.py:34: FutureWarning: Conversion of the second argument of issubdtype from `float` to `np.floating` is deprecated. In future, it will be treated as `np.float64 == np.dtype(float).type`.\n",
      "  from ._conv import register_converters as _register_converters\n"
     ]
    }
   ],
   "source": [
    "r = cfe.result.from_dataset('Ethiopia_small.ds')"
   ]
  },
  {
   "cell_type": "code",
   "execution_count": 3,
   "metadata": {},
   "outputs": [
    {
     "data": {
      "text/plain": [
       "i\n",
       "Banana           1.580765\n",
       "Barley           2.345235\n",
       "Chat / Kat       3.916335\n",
       "Chick Pea        2.082343\n",
       "Coffee           2.963819\n",
       "Eggs             2.259911\n",
       "Haricot Beans    2.012021\n",
       "Horsebeans       2.359174\n",
       "Lentils          2.378202\n",
       "Maize            2.549806\n",
       "Milk             2.615847\n",
       "Onion            2.050422\n",
       "Potato           1.834936\n",
       "Salt             0.403211\n",
       "Sorghum          2.799647\n",
       "Sugar            2.239737\n",
       "Teff             3.418198\n",
       "Wheat            3.021346\n",
       "Name: alpha, dtype: float64"
      ]
     },
     "execution_count": 3,
     "metadata": {},
     "output_type": "execute_result"
    }
   ],
   "source": [
    "r.get_alpha(as_df=True).dropna()"
   ]
  },
  {
   "cell_type": "code",
   "execution_count": 4,
   "metadata": {},
   "outputs": [
    {
     "data": {
      "text/plain": [
       "i\n",
       "Banana           0.402767\n",
       "Barley           0.929820\n",
       "Chat / Kat       0.421841\n",
       "Chick Pea        0.754155\n",
       "Coffee           0.341124\n",
       "Eggs             0.218937\n",
       "Haricot Beans    0.624633\n",
       "Horsebeans       0.632542\n",
       "Lentils          0.412041\n",
       "Maize            0.730700\n",
       "Milk             0.347794\n",
       "Onion            0.326441\n",
       "Potato           0.274735\n",
       "Salt             0.250247\n",
       "Sorghum          0.921510\n",
       "Sugar            0.461780\n",
       "Teff             0.453768\n",
       "Wheat            0.856169\n",
       "Name: beta, dtype: float64"
      ]
     },
     "execution_count": 4,
     "metadata": {},
     "output_type": "execute_result"
    }
   ],
   "source": [
    "r.get_beta(as_df=True).dropna()"
   ]
  },
  {
   "cell_type": "code",
   "execution_count": 5,
   "metadata": {},
   "outputs": [
    {
     "data": {
      "text/html": [
       "<div>\n",
       "<style scoped>\n",
       "    .dataframe tbody tr th:only-of-type {\n",
       "        vertical-align: middle;\n",
       "    }\n",
       "\n",
       "    .dataframe tbody tr th {\n",
       "        vertical-align: top;\n",
       "    }\n",
       "\n",
       "    .dataframe thead tr th {\n",
       "        text-align: left;\n",
       "    }\n",
       "\n",
       "    .dataframe thead tr:last-of-type th {\n",
       "        text-align: right;\n",
       "    }\n",
       "</style>\n",
       "<table border=\"1\" class=\"dataframe\">\n",
       "  <thead>\n",
       "    <tr>\n",
       "      <th></th>\n",
       "      <th colspan=\"14\" halign=\"left\">delta</th>\n",
       "    </tr>\n",
       "    <tr>\n",
       "      <th>k</th>\n",
       "      <th>F 0-3</th>\n",
       "      <th>F 14-18</th>\n",
       "      <th>F 19-30</th>\n",
       "      <th>F 31-50</th>\n",
       "      <th>F 4-8</th>\n",
       "      <th>F 51+</th>\n",
       "      <th>F 9-13</th>\n",
       "      <th>M 0-3</th>\n",
       "      <th>M 14-18</th>\n",
       "      <th>M 19-30</th>\n",
       "      <th>M 31-50</th>\n",
       "      <th>M 4-8</th>\n",
       "      <th>M 51+</th>\n",
       "      <th>M 9-13</th>\n",
       "    </tr>\n",
       "    <tr>\n",
       "      <th>i</th>\n",
       "      <th></th>\n",
       "      <th></th>\n",
       "      <th></th>\n",
       "      <th></th>\n",
       "      <th></th>\n",
       "      <th></th>\n",
       "      <th></th>\n",
       "      <th></th>\n",
       "      <th></th>\n",
       "      <th></th>\n",
       "      <th></th>\n",
       "      <th></th>\n",
       "      <th></th>\n",
       "      <th></th>\n",
       "    </tr>\n",
       "  </thead>\n",
       "  <tbody>\n",
       "    <tr>\n",
       "      <th>Banana</th>\n",
       "      <td>-0.041680</td>\n",
       "      <td>0.135124</td>\n",
       "      <td>0.119469</td>\n",
       "      <td>0.058901</td>\n",
       "      <td>-0.062178</td>\n",
       "      <td>0.057870</td>\n",
       "      <td>-0.020986</td>\n",
       "      <td>0.028977</td>\n",
       "      <td>0.019001</td>\n",
       "      <td>0.092642</td>\n",
       "      <td>0.227240</td>\n",
       "      <td>-0.055562</td>\n",
       "      <td>0.065332</td>\n",
       "      <td>-0.074827</td>\n",
       "    </tr>\n",
       "    <tr>\n",
       "      <th>Barley</th>\n",
       "      <td>0.060847</td>\n",
       "      <td>0.160156</td>\n",
       "      <td>0.181576</td>\n",
       "      <td>0.065316</td>\n",
       "      <td>0.003294</td>\n",
       "      <td>0.066492</td>\n",
       "      <td>0.131837</td>\n",
       "      <td>0.046245</td>\n",
       "      <td>0.138875</td>\n",
       "      <td>0.099159</td>\n",
       "      <td>0.059256</td>\n",
       "      <td>0.011783</td>\n",
       "      <td>-0.016253</td>\n",
       "      <td>-0.028107</td>\n",
       "    </tr>\n",
       "    <tr>\n",
       "      <th>Chat / Kat</th>\n",
       "      <td>0.183911</td>\n",
       "      <td>-0.084609</td>\n",
       "      <td>-0.012299</td>\n",
       "      <td>-0.125368</td>\n",
       "      <td>0.052870</td>\n",
       "      <td>0.051837</td>\n",
       "      <td>0.061692</td>\n",
       "      <td>0.038726</td>\n",
       "      <td>0.014287</td>\n",
       "      <td>0.207572</td>\n",
       "      <td>0.251498</td>\n",
       "      <td>0.116725</td>\n",
       "      <td>0.226806</td>\n",
       "      <td>0.041379</td>\n",
       "    </tr>\n",
       "    <tr>\n",
       "      <th>Chick Pea</th>\n",
       "      <td>-0.058922</td>\n",
       "      <td>0.076973</td>\n",
       "      <td>0.103839</td>\n",
       "      <td>0.154312</td>\n",
       "      <td>0.080259</td>\n",
       "      <td>0.109017</td>\n",
       "      <td>0.111385</td>\n",
       "      <td>0.014251</td>\n",
       "      <td>0.096653</td>\n",
       "      <td>0.132291</td>\n",
       "      <td>0.201317</td>\n",
       "      <td>0.077510</td>\n",
       "      <td>0.198193</td>\n",
       "      <td>0.095822</td>\n",
       "    </tr>\n",
       "    <tr>\n",
       "      <th>Coffee</th>\n",
       "      <td>0.049136</td>\n",
       "      <td>0.064365</td>\n",
       "      <td>0.132727</td>\n",
       "      <td>0.119389</td>\n",
       "      <td>0.000534</td>\n",
       "      <td>0.011545</td>\n",
       "      <td>0.008041</td>\n",
       "      <td>-0.007486</td>\n",
       "      <td>-0.013776</td>\n",
       "      <td>0.122627</td>\n",
       "      <td>0.101183</td>\n",
       "      <td>0.044945</td>\n",
       "      <td>0.103896</td>\n",
       "      <td>-0.063190</td>\n",
       "    </tr>\n",
       "    <tr>\n",
       "      <th>Eggs</th>\n",
       "      <td>-0.051808</td>\n",
       "      <td>0.097252</td>\n",
       "      <td>0.140007</td>\n",
       "      <td>0.087295</td>\n",
       "      <td>-0.026832</td>\n",
       "      <td>0.132824</td>\n",
       "      <td>-0.002785</td>\n",
       "      <td>0.057078</td>\n",
       "      <td>0.057878</td>\n",
       "      <td>0.092305</td>\n",
       "      <td>0.179983</td>\n",
       "      <td>-0.064904</td>\n",
       "      <td>0.120536</td>\n",
       "      <td>-0.025731</td>\n",
       "    </tr>\n",
       "    <tr>\n",
       "      <th>Haricot Beans</th>\n",
       "      <td>0.151469</td>\n",
       "      <td>0.093367</td>\n",
       "      <td>-0.022535</td>\n",
       "      <td>0.114972</td>\n",
       "      <td>0.178256</td>\n",
       "      <td>0.319418</td>\n",
       "      <td>0.101808</td>\n",
       "      <td>0.120848</td>\n",
       "      <td>0.153752</td>\n",
       "      <td>0.144374</td>\n",
       "      <td>0.068811</td>\n",
       "      <td>0.139900</td>\n",
       "      <td>0.225381</td>\n",
       "      <td>0.123124</td>\n",
       "    </tr>\n",
       "    <tr>\n",
       "      <th>Horsebeans</th>\n",
       "      <td>0.071565</td>\n",
       "      <td>0.102440</td>\n",
       "      <td>0.084509</td>\n",
       "      <td>0.073768</td>\n",
       "      <td>0.035107</td>\n",
       "      <td>0.101438</td>\n",
       "      <td>0.080538</td>\n",
       "      <td>0.036428</td>\n",
       "      <td>0.068877</td>\n",
       "      <td>0.159912</td>\n",
       "      <td>0.099053</td>\n",
       "      <td>0.095341</td>\n",
       "      <td>0.160418</td>\n",
       "      <td>0.103697</td>\n",
       "    </tr>\n",
       "    <tr>\n",
       "      <th>Lentils</th>\n",
       "      <td>0.033975</td>\n",
       "      <td>0.076014</td>\n",
       "      <td>0.116623</td>\n",
       "      <td>0.118979</td>\n",
       "      <td>0.031286</td>\n",
       "      <td>0.032777</td>\n",
       "      <td>0.073363</td>\n",
       "      <td>-0.011152</td>\n",
       "      <td>0.056182</td>\n",
       "      <td>0.103025</td>\n",
       "      <td>0.208473</td>\n",
       "      <td>0.061996</td>\n",
       "      <td>0.247723</td>\n",
       "      <td>0.000688</td>\n",
       "    </tr>\n",
       "    <tr>\n",
       "      <th>Maize</th>\n",
       "      <td>0.168858</td>\n",
       "      <td>0.045025</td>\n",
       "      <td>0.047500</td>\n",
       "      <td>0.103505</td>\n",
       "      <td>0.203130</td>\n",
       "      <td>0.195555</td>\n",
       "      <td>0.147100</td>\n",
       "      <td>0.149083</td>\n",
       "      <td>0.074493</td>\n",
       "      <td>0.131619</td>\n",
       "      <td>0.157296</td>\n",
       "      <td>0.232135</td>\n",
       "      <td>0.277906</td>\n",
       "      <td>0.214095</td>\n",
       "    </tr>\n",
       "    <tr>\n",
       "      <th>Milk</th>\n",
       "      <td>0.269819</td>\n",
       "      <td>0.159296</td>\n",
       "      <td>0.077638</td>\n",
       "      <td>0.120299</td>\n",
       "      <td>0.086458</td>\n",
       "      <td>0.104900</td>\n",
       "      <td>0.011247</td>\n",
       "      <td>0.221282</td>\n",
       "      <td>0.102319</td>\n",
       "      <td>-0.004193</td>\n",
       "      <td>0.148538</td>\n",
       "      <td>0.164217</td>\n",
       "      <td>0.237364</td>\n",
       "      <td>-0.013747</td>\n",
       "    </tr>\n",
       "    <tr>\n",
       "      <th>Onion</th>\n",
       "      <td>0.020628</td>\n",
       "      <td>0.083072</td>\n",
       "      <td>0.181644</td>\n",
       "      <td>0.131511</td>\n",
       "      <td>0.015322</td>\n",
       "      <td>0.016468</td>\n",
       "      <td>0.036535</td>\n",
       "      <td>0.024368</td>\n",
       "      <td>0.034192</td>\n",
       "      <td>0.100229</td>\n",
       "      <td>0.150291</td>\n",
       "      <td>-0.031828</td>\n",
       "      <td>0.107824</td>\n",
       "      <td>-0.043789</td>\n",
       "    </tr>\n",
       "    <tr>\n",
       "      <th>Potato</th>\n",
       "      <td>0.075494</td>\n",
       "      <td>0.052202</td>\n",
       "      <td>0.093455</td>\n",
       "      <td>0.022081</td>\n",
       "      <td>0.030358</td>\n",
       "      <td>0.054011</td>\n",
       "      <td>0.085108</td>\n",
       "      <td>0.065097</td>\n",
       "      <td>0.047996</td>\n",
       "      <td>0.093952</td>\n",
       "      <td>0.126494</td>\n",
       "      <td>0.053551</td>\n",
       "      <td>0.123399</td>\n",
       "      <td>0.074995</td>\n",
       "    </tr>\n",
       "    <tr>\n",
       "      <th>Salt</th>\n",
       "      <td>0.069499</td>\n",
       "      <td>0.025401</td>\n",
       "      <td>0.089175</td>\n",
       "      <td>0.064990</td>\n",
       "      <td>0.043398</td>\n",
       "      <td>-0.000587</td>\n",
       "      <td>0.110582</td>\n",
       "      <td>0.071613</td>\n",
       "      <td>0.045922</td>\n",
       "      <td>0.084043</td>\n",
       "      <td>0.063061</td>\n",
       "      <td>0.093904</td>\n",
       "      <td>0.110238</td>\n",
       "      <td>0.080911</td>\n",
       "    </tr>\n",
       "    <tr>\n",
       "      <th>Sorghum</th>\n",
       "      <td>0.036787</td>\n",
       "      <td>0.016540</td>\n",
       "      <td>-0.024783</td>\n",
       "      <td>-0.033643</td>\n",
       "      <td>0.150645</td>\n",
       "      <td>0.013265</td>\n",
       "      <td>0.187029</td>\n",
       "      <td>0.084002</td>\n",
       "      <td>0.095256</td>\n",
       "      <td>0.069806</td>\n",
       "      <td>0.121875</td>\n",
       "      <td>0.256042</td>\n",
       "      <td>0.242486</td>\n",
       "      <td>0.195108</td>\n",
       "    </tr>\n",
       "    <tr>\n",
       "      <th>Sugar</th>\n",
       "      <td>0.154715</td>\n",
       "      <td>0.082592</td>\n",
       "      <td>0.136417</td>\n",
       "      <td>0.109887</td>\n",
       "      <td>0.120432</td>\n",
       "      <td>0.069063</td>\n",
       "      <td>0.086145</td>\n",
       "      <td>0.099682</td>\n",
       "      <td>0.075972</td>\n",
       "      <td>0.113577</td>\n",
       "      <td>0.046506</td>\n",
       "      <td>0.102214</td>\n",
       "      <td>0.138135</td>\n",
       "      <td>0.051752</td>\n",
       "    </tr>\n",
       "    <tr>\n",
       "      <th>Teff</th>\n",
       "      <td>-0.020147</td>\n",
       "      <td>0.118776</td>\n",
       "      <td>0.165312</td>\n",
       "      <td>0.213938</td>\n",
       "      <td>0.028188</td>\n",
       "      <td>0.065383</td>\n",
       "      <td>0.073752</td>\n",
       "      <td>0.008325</td>\n",
       "      <td>0.119804</td>\n",
       "      <td>0.190597</td>\n",
       "      <td>0.281978</td>\n",
       "      <td>0.065659</td>\n",
       "      <td>0.210661</td>\n",
       "      <td>0.056249</td>\n",
       "    </tr>\n",
       "    <tr>\n",
       "      <th>Wheat</th>\n",
       "      <td>0.156169</td>\n",
       "      <td>0.122708</td>\n",
       "      <td>0.048155</td>\n",
       "      <td>0.076260</td>\n",
       "      <td>0.133891</td>\n",
       "      <td>0.131178</td>\n",
       "      <td>0.125466</td>\n",
       "      <td>0.131630</td>\n",
       "      <td>0.203991</td>\n",
       "      <td>0.132343</td>\n",
       "      <td>0.133915</td>\n",
       "      <td>0.170824</td>\n",
       "      <td>0.179635</td>\n",
       "      <td>0.149660</td>\n",
       "    </tr>\n",
       "  </tbody>\n",
       "</table>\n",
       "</div>"
      ],
      "text/plain": [
       "                  delta                                                    \\\n",
       "k                 F 0-3   F 14-18   F 19-30   F 31-50     F 4-8     F 51+   \n",
       "i                                                                           \n",
       "Banana        -0.041680  0.135124  0.119469  0.058901 -0.062178  0.057870   \n",
       "Barley         0.060847  0.160156  0.181576  0.065316  0.003294  0.066492   \n",
       "Chat / Kat     0.183911 -0.084609 -0.012299 -0.125368  0.052870  0.051837   \n",
       "Chick Pea     -0.058922  0.076973  0.103839  0.154312  0.080259  0.109017   \n",
       "Coffee         0.049136  0.064365  0.132727  0.119389  0.000534  0.011545   \n",
       "Eggs          -0.051808  0.097252  0.140007  0.087295 -0.026832  0.132824   \n",
       "Haricot Beans  0.151469  0.093367 -0.022535  0.114972  0.178256  0.319418   \n",
       "Horsebeans     0.071565  0.102440  0.084509  0.073768  0.035107  0.101438   \n",
       "Lentils        0.033975  0.076014  0.116623  0.118979  0.031286  0.032777   \n",
       "Maize          0.168858  0.045025  0.047500  0.103505  0.203130  0.195555   \n",
       "Milk           0.269819  0.159296  0.077638  0.120299  0.086458  0.104900   \n",
       "Onion          0.020628  0.083072  0.181644  0.131511  0.015322  0.016468   \n",
       "Potato         0.075494  0.052202  0.093455  0.022081  0.030358  0.054011   \n",
       "Salt           0.069499  0.025401  0.089175  0.064990  0.043398 -0.000587   \n",
       "Sorghum        0.036787  0.016540 -0.024783 -0.033643  0.150645  0.013265   \n",
       "Sugar          0.154715  0.082592  0.136417  0.109887  0.120432  0.069063   \n",
       "Teff          -0.020147  0.118776  0.165312  0.213938  0.028188  0.065383   \n",
       "Wheat          0.156169  0.122708  0.048155  0.076260  0.133891  0.131178   \n",
       "\n",
       "                                                                           \\\n",
       "k                F 9-13     M 0-3   M 14-18   M 19-30   M 31-50     M 4-8   \n",
       "i                                                                           \n",
       "Banana        -0.020986  0.028977  0.019001  0.092642  0.227240 -0.055562   \n",
       "Barley         0.131837  0.046245  0.138875  0.099159  0.059256  0.011783   \n",
       "Chat / Kat     0.061692  0.038726  0.014287  0.207572  0.251498  0.116725   \n",
       "Chick Pea      0.111385  0.014251  0.096653  0.132291  0.201317  0.077510   \n",
       "Coffee         0.008041 -0.007486 -0.013776  0.122627  0.101183  0.044945   \n",
       "Eggs          -0.002785  0.057078  0.057878  0.092305  0.179983 -0.064904   \n",
       "Haricot Beans  0.101808  0.120848  0.153752  0.144374  0.068811  0.139900   \n",
       "Horsebeans     0.080538  0.036428  0.068877  0.159912  0.099053  0.095341   \n",
       "Lentils        0.073363 -0.011152  0.056182  0.103025  0.208473  0.061996   \n",
       "Maize          0.147100  0.149083  0.074493  0.131619  0.157296  0.232135   \n",
       "Milk           0.011247  0.221282  0.102319 -0.004193  0.148538  0.164217   \n",
       "Onion          0.036535  0.024368  0.034192  0.100229  0.150291 -0.031828   \n",
       "Potato         0.085108  0.065097  0.047996  0.093952  0.126494  0.053551   \n",
       "Salt           0.110582  0.071613  0.045922  0.084043  0.063061  0.093904   \n",
       "Sorghum        0.187029  0.084002  0.095256  0.069806  0.121875  0.256042   \n",
       "Sugar          0.086145  0.099682  0.075972  0.113577  0.046506  0.102214   \n",
       "Teff           0.073752  0.008325  0.119804  0.190597  0.281978  0.065659   \n",
       "Wheat          0.125466  0.131630  0.203991  0.132343  0.133915  0.170824   \n",
       "\n",
       "                                   \n",
       "k                 M 51+    M 9-13  \n",
       "i                                  \n",
       "Banana         0.065332 -0.074827  \n",
       "Barley        -0.016253 -0.028107  \n",
       "Chat / Kat     0.226806  0.041379  \n",
       "Chick Pea      0.198193  0.095822  \n",
       "Coffee         0.103896 -0.063190  \n",
       "Eggs           0.120536 -0.025731  \n",
       "Haricot Beans  0.225381  0.123124  \n",
       "Horsebeans     0.160418  0.103697  \n",
       "Lentils        0.247723  0.000688  \n",
       "Maize          0.277906  0.214095  \n",
       "Milk           0.237364 -0.013747  \n",
       "Onion          0.107824 -0.043789  \n",
       "Potato         0.123399  0.074995  \n",
       "Salt           0.110238  0.080911  \n",
       "Sorghum        0.242486  0.195108  \n",
       "Sugar          0.138135  0.051752  \n",
       "Teff           0.210661  0.056249  \n",
       "Wheat          0.179635  0.149660  "
      ]
     },
     "execution_count": 5,
     "metadata": {},
     "output_type": "execute_result"
    }
   ],
   "source": [
    "r.delta.to_dataframe().unstack('k').dropna()"
   ]
  },
  {
   "cell_type": "code",
   "execution_count": 6,
   "metadata": {},
   "outputs": [
    {
     "name": "stderr",
     "output_type": "stream",
     "text": [
      "/srv/app/venv/lib/python3.6/site-packages/xarray/core/nanops.py:142: RuntimeWarning: Mean of empty slice\n",
      "  return np.nanmean(a, axis=axis, dtype=dtype)\n",
      "/srv/app/venv/lib/python3.6/site-packages/xarray/core/nputils.py:215: RuntimeWarning: Degrees of freedom <= 0 for slice.\n",
      "  result = getattr(npmodule, name)(values, axis=axis, **kwargs)\n"
     ]
    }
   ],
   "source": [
    "t = r.firstround  # First round\n",
    "m = r.coords['m'][0] # First market\n",
    "\n",
    "x = r.get_predicted_expenditures().sum('i')\n",
    "medianx = x.where(x>0).sel(t=t,m=m).median('j').values # Budget (median household)"
   ]
  },
  {
   "cell_type": "code",
   "execution_count": 7,
   "metadata": {},
   "outputs": [
    {
     "data": {
      "text/plain": [
       "i\n",
       "Banana             4.817525\n",
       "Barley            76.746701\n",
       "Chat / Kat        13.900936\n",
       "Chick Pea         27.721953\n",
       "Coffee             6.070387\n",
       "Eggs               2.727390\n",
       "Haricot Beans     14.995097\n",
       "Horsebeans        19.328798\n",
       "Lentils            6.938170\n",
       "Maize             35.179968\n",
       "Milk               5.571496\n",
       "Onion              4.168791\n",
       "Potato             3.133966\n",
       "Salt               1.978220\n",
       "Sorghum          112.220420\n",
       "Sugar              8.222924\n",
       "Teff              13.532824\n",
       "Wheat             97.082992\n",
       "Name: quantities, dtype: float64"
      ]
     },
     "execution_count": 7,
     "metadata": {},
     "output_type": "execute_result"
    }
   ],
   "source": [
    "xbar=r.demands(medianx) # Expenditures given median budget\n",
    "xbar"
   ]
  },
  {
   "cell_type": "code",
   "execution_count": 8,
   "metadata": {},
   "outputs": [
    {
     "data": {
      "text/plain": [
       "29.018354762969675"
      ]
     },
     "execution_count": 8,
     "metadata": {},
     "output_type": "execute_result"
    }
   ],
   "source": [
    "USE_GOOD = 'Sorghum'\n",
    "    \n",
    "# Reference prices for kgs at time t in market m\n",
    "ref_price = r.prices.sel(t=t,m=m,u='Kg')\n",
    "\n",
    "r.demands(medianx)[USE_GOOD]/ref_price.loc[USE_GOOD].values"
   ]
  },
  {
   "cell_type": "code",
   "execution_count": 10,
   "metadata": {},
   "outputs": [
    {
     "data": {
      "text/plain": [
       "Text(0, 0.5, 'Price Scale')"
      ]
     },
     "execution_count": 10,
     "metadata": {},
     "output_type": "execute_result"
    },
    {
     "data": {
      "image/png": "[encoded data removed]",
      "text/plain": [
       "<Figure size 432x288 with 1 Axes>"
      ]
     },
     "metadata": {
      "needs_background": "light"
     },
     "output_type": "display_data"
    }
   ],
   "source": [
    "\n",
    "P = np.linspace(1,10,100).tolist()\n",
    "\n",
    "plt.plot([r.demands(medianx,p={USE_GOOD:scale})[USE_GOOD]/ref_price.loc[USE_GOOD].values for scale in P],P)\n",
    "\n",
    "plt.xlabel(\"%s in Kgs\" % USE_GOOD)\n",
    "plt.ylabel('Price Scale')"
   ]
  },
  {
   "cell_type": "code",
   "execution_count": 13,
   "metadata": {},
   "outputs": [
    {
     "data": {
      "text/plain": [
       "<matplotlib.legend.Legend at 0x7f9694947748>"
      ]
     },
     "execution_count": 13,
     "metadata": {},
     "output_type": "execute_result"
    },
    {
     "data": {
      "image/png": "[encoded data removed]",
      "text/plain": [
       "<Figure size 432x288 with 1 Axes>"
      ]
     },
     "metadata": {
      "needs_background": "light"
     },
     "output_type": "display_data"
    }
   ],
   "source": [
    "X = [medianx*s for s in [.25,.5,1.,2,4]]\n",
    "for myx in X:\n",
    "    plt.plot([r.demands(myx,p={USE_GOOD:scale})[USE_GOOD]/ref_price.loc[USE_GOOD].values for scale in P],P)\n",
    "\n",
    "plt.xlabel(\"%s in Kgs\" % USE_GOOD)\n",
    "plt.ylabel('Price Scale')\n",
    "plt.legend(X)"
   ]
  },
  {
   "cell_type": "code",
   "execution_count": 12,
   "metadata": {},
   "outputs": [],
   "source": [
    "r['alpha'] = r.alpha.loc[r.alpha>0]"
   ]
  },
  {
   "cell_type": "code",
   "execution_count": 14,
   "metadata": {},
   "outputs": [
    {
     "data": {
      "text/plain": [
       "Coordinates:\n",
       "  * i        (i) object 'Banana' 'Barley' 'Beef' ... 'Tella' 'Tomato' 'Wheat'\n",
       "  * t        (t) int64 2011 2013 2015\n",
       "  * m        (m) int64 1\n",
       "  * u        (u) object '40' 'Araba' ... 'Zorba/Akara \\xa0  Small'"
      ]
     },
     "execution_count": 14,
     "metadata": {},
     "output_type": "execute_result"
    }
   ],
   "source": [
    "r.prices.coords"
   ]
  },
  {
   "cell_type": "code",
   "execution_count": 15,
   "metadata": {},
   "outputs": [
    {
     "data": {
      "text/plain": [
       "i\n",
       "Banana            2.138573\n",
       "Barley           10.130627\n",
       "Chat / Kat        4.360239\n",
       "Cheese           38.000000\n",
       "Chick Pea        19.950864\n",
       "Coffee            0.182123\n",
       "Eggs             17.000000\n",
       "Haricot Beans     8.400000\n",
       "Horsebeans       11.201397\n",
       "Kocho             3.872905\n",
       "Lentils          25.350303\n",
       "Linseed           0.249102\n",
       "Maize             1.606267\n",
       "Meat              9.164968\n",
       "Milk             16.000000\n",
       "Millet            5.986486\n",
       "Onion             1.899735\n",
       "Potato            2.128150\n",
       "Salt              0.028861\n",
       "Sorghum           3.867222\n",
       "Sugar             0.269821\n",
       "Teff              6.893324\n",
       "Wheat             7.693904\n",
       "Name: prices, dtype: float64"
      ]
     },
     "execution_count": 15,
     "metadata": {},
     "output_type": "execute_result"
    }
   ],
   "source": [
    "p = r.prices.sel(t=t,m=m,u='Kg',drop=True).to_dataframe().squeeze().dropna()\n",
    "p"
   ]
  },
  {
   "cell_type": "code",
   "execution_count": 16,
   "metadata": {},
   "outputs": [
    {
     "data": {
      "text/plain": [
       "i\n",
       "Banana            2.252682\n",
       "Barley            7.575711\n",
       "Chat / Kat        3.188113\n",
       "Chick Pea         1.389511\n",
       "Coffee           33.331246\n",
       "Eggs              0.160435\n",
       "Haricot Beans     1.785131\n",
       "Horsebeans        1.725570\n",
       "Lentils           0.273692\n",
       "Maize            21.901694\n",
       "Milk              0.348218\n",
       "Onion             2.194407\n",
       "Potato            1.472625\n",
       "Salt             68.543013\n",
       "Sorghum          29.018355\n",
       "Sugar            30.475477\n",
       "Teff              1.963178\n",
       "Wheat            12.618170\n",
       "dtype: float64"
      ]
     },
     "execution_count": 16,
     "metadata": {},
     "output_type": "execute_result"
    }
   ],
   "source": [
    "c=(r.demands(medianx)/p).dropna()\n",
    "c"
   ]
  },
  {
   "cell_type": "code",
   "execution_count": 19,
   "metadata": {},
   "outputs": [
    {
     "data": {
      "text/plain": [
       "Index(['Protein', 'Fat', 'fibre', 'carbohydrate', 'Calories', 'energy_kj',\n",
       "       'Calcium', 'Iron', 'Betacarotene', 'caroten_total', 'Thiamine',\n",
       "       'Riboflavin', 'Niacin', 'Ascorbic Acid', 'pu_cal', 'pu_prot', 'pu_fat'],\n",
       "      dtype='object')"
      ]
     },
     "execution_count": 19,
     "metadata": {},
     "output_type": "execute_result"
    }
   ],
   "source": [
    "def dataframe_from_gspreadsheet(sheet_name, key):\n",
    "    \"\"\"Transform public google spreadsheet into pandas.DataFrame.\"\"\"\n",
    "    \n",
    "    url = 'https://docs.google.com/spreadsheets/d/{key}/gviz/tq?tqx=out:csv&sheet={sheet_name}&headers=1'.format(\n",
    "        key=key, sheet_name=sheet_name.replace(' ', '%20'))\n",
    "\n",
    "    df = pd.read_csv(url)\n",
    "\n",
    "    return df.drop([col for col in df.columns if col.startswith('Unnamed')], axis=1)\n",
    "\n",
    "# Change 'ICRISAT' sheet id to that of your own sheet\n",
    "fct = dataframe_from_gspreadsheet(\"FCT\", '13Ig5hZif-NSHtgkKRp_cEgKXk0lOsdUB2BAD6O_FnRo')\n",
    "\n",
    "\n",
    "# Change some labels\n",
    "d={'protein':'Protein',\n",
    "   'protein g':'Protein',\n",
    "   'fat':'Fat',\n",
    "   'energy_kcal':'Calories',\n",
    "   'energy kcal':'Calories',\n",
    "   'calcium':'Calcium',\n",
    "   'ca mg':'Calcium',\n",
    "   'betacarotene':'Betacarotene',\n",
    "   'thiamine':'Thiamine',\n",
    "   'riboflavin':'Riboflavin',\n",
    "   'niacin':'Niacin',\n",
    "   'iron':'Iron',\n",
    "   'fe mg':'Iron',\n",
    "   'ascorbic_total':'Ascorbic Acid',\n",
    "   'vit a ug':'Vitamin A',\n",
    "   'vit b6 mg':'Vitamin B6',\n",
    "   'vit b12 ug':'Vitamin B12',\n",
    "   'vit d ug':'Vitamin D',\n",
    "   'vit e ug':'Vitamin E',\n",
    "   'vit c mg':'Vitamin C',\n",
    "   'mg mg':'Magnesium',\n",
    "   'zn mg':'Zinc'}\n",
    "\n",
    "fct = fct.rename(columns=d) #[list(d.values())]\n",
    "\n",
    "# Fix capitalization (to match food labels)\n",
    "fct.index = fct.reset_index()['i'].str.title()\n",
    "del fct['i']\n",
    "del fct['ext_source']\n",
    "\n",
    "# Replace missing with zeros\n",
    "fct = fct.fillna(0)\n",
    "\n",
    "try:\n",
    "    fct.index = fct.index.droplevel('u')\n",
    "except (AttributeError,KeyError):\n",
    "    pass # No units?\n",
    "\n",
    "fct.columns"
   ]
  },
  {
   "cell_type": "code",
   "execution_count": 20,
   "metadata": {},
   "outputs": [
    {
     "name": "stdout",
     "output_type": "stream",
     "text": [
      "Index(['Milk', 'Sugar', 'Eggs', 'Potato', 'Onion', 'Banana', 'Coffee'], dtype='object', name='i')\n"
     ]
    }
   ],
   "source": [
    "fct0,c0 = fct.align(c,axis=0,join='inner')\n",
    "print(fct0.index)"
   ]
  },
  {
   "cell_type": "code",
   "execution_count": 21,
   "metadata": {},
   "outputs": [
    {
     "data": {
      "text/plain": [
       "Protein             634.142940\n",
       "Fat                4902.666234\n",
       "fibre               100.490303\n",
       "carbohydrate      26439.898224\n",
       "Calories         110646.329262\n",
       "energy_kj        463254.062004\n",
       "Calcium           33787.353995\n",
       "Iron               1428.974919\n",
       "Betacarotene      39777.162072\n",
       "caroten_total     74271.098254\n",
       "Thiamine             14.161777\n",
       "Riboflavin            4.138775\n",
       "Niacin               27.524530\n",
       "Ascorbic Acid       474.512385\n",
       "pu_cal           125882.173552\n",
       "pu_prot             131.534006\n",
       "pu_fat               32.668108\n",
       "dtype: float64"
      ]
     },
     "execution_count": 21,
     "metadata": {},
     "output_type": "execute_result"
    }
   ],
   "source": [
    "N = fct0.T@c0\n",
    "N"
   ]
  },
  {
   "cell_type": "code",
   "execution_count": 22,
   "metadata": {},
   "outputs": [],
   "source": [
    "def nutrient_demand(x,pscale=None,p=p):\n",
    "    c = (r.demands(x,p=pscale)/p).dropna()\n",
    "    fct0,c0 = fct.align(c,axis=0,join='inner')\n",
    "    N = fct0.T@c0\n",
    "\n",
    "    return N"
   ]
  },
  {
   "cell_type": "code",
   "execution_count": 23,
   "metadata": {},
   "outputs": [
    {
     "data": {
      "text/plain": [
       "Text(0, 0.5, 'log nutrient')"
      ]
     },
     "execution_count": 23,
     "metadata": {},
     "output_type": "execute_result"
    },
    {
     "data": {
      "image/png": "[encoded data removed]",
      "text/plain": [
       "<Figure size 432x288 with 1 Axes>"
      ]
     },
     "metadata": {
      "needs_background": "light"
     },
     "output_type": "display_data"
    }
   ],
   "source": [
    "X = np.linspace(medianx/5,medianx*5,50).tolist()\n",
    "\n",
    "UseNutrients = ['Protein','Calories','Iron','Calcium']\n",
    "\n",
    "# Use reference prices\n",
    "logN={}\n",
    "for myx in X:\n",
    "    logN[myx] = np.log(nutrient_demand(myx)[UseNutrients])\n",
    "    \n",
    "logN = pd.concat(logN,axis=1).T\n",
    "\n",
    "plt.plot(X,logN)\n",
    "plt.legend(UseNutrients)\n",
    "plt.xlabel('log budget')\n",
    "plt.ylabel('log nutrient')"
   ]
  },
  {
   "cell_type": "code",
   "execution_count": 24,
   "metadata": {},
   "outputs": [
    {
     "data": {
      "text/plain": [
       "Text(0, 0.5, 'log Nutrient')"
      ]
     },
     "execution_count": 24,
     "metadata": {},
     "output_type": "execute_result"
    },
    {
     "data": {
      "image/png": "[encoded data removed]",
      "text/plain": [
       "<Figure size 432x288 with 1 Axes>"
      ]
     },
     "metadata": {
      "needs_background": "light"
     },
     "output_type": "display_data"
    }
   ],
   "source": [
    "USE_GOOD = 'Teff'\n",
    "\n",
    "P = np.linspace(1,5,20).tolist()\n",
    "\n",
    "plt.plot(P,pd.concat({p0:np.log(nutrient_demand(medianx,pscale={USE_GOOD:p0})[UseNutrients]) for p0 in P},axis=1).T)\n",
    "plt.legend(UseNutrients)\n",
    "plt.xlabel('Price')\n",
    "plt.ylabel('log Nutrient')"
   ]
  },
  {
   "cell_type": "code",
   "execution_count": null,
   "metadata": {},
   "outputs": [],
   "source": []
  }
 ],
 "metadata": {
  "kernelspec": {
   "display_name": "Python 3",
   "language": "python",
   "name": "python3"
  },
  "language_info": {
   "codemirror_mode": {
    "name": "ipython",
    "version": 3
   },
   "file_extension": ".py",
   "mimetype": "text/x-python",
   "name": "python",
   "nbconvert_exporter": "python",
   "pygments_lexer": "ipython3",
   "version": "3.6.9"
  }
 },
 "nbformat": 4,
 "nbformat_minor": 4
}
